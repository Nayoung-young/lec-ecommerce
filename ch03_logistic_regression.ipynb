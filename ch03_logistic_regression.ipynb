{
  "nbformat": 4,
  "nbformat_minor": 0,
  "metadata": {
    "colab": {
      "provenance": [],
      "authorship_tag": "ABX9TyNpCN3TZM8idCILRY/7gwHJ",
      "include_colab_link": true
    },
    "kernelspec": {
      "name": "python3",
      "display_name": "Python 3"
    },
    "language_info": {
      "name": "python"
    }
  },
  "cells": [
    {
      "cell_type": "markdown",
      "metadata": {
        "id": "view-in-github",
        "colab_type": "text"
      },
      "source": [
        "<a href=\"https://colab.research.google.com/github/Nayoung-young/lec-ecommerce-clone/blob/main/ch03_logistic_regression.ipynb\" target=\"_parent\"><img src=\"https://colab.research.google.com/assets/colab-badge.svg\" alt=\"Open In Colab\"/></a>"
      ]
    },
    {
      "cell_type": "markdown",
      "source": [
        "#_01. 분석 목적 \n",
        "- 광고 반응률 예측 "
      ],
      "metadata": {
        "id": "O0X5Sn5k9YOc"
      }
    },
    {
      "cell_type": "markdown",
      "source": [
        "- logsitic regression: 이진분류를 예측 \n",
        "- y : 광고 클릭 여부, x : 고객에 대한 정보 "
      ],
      "metadata": {
        "id": "X5FQ32OJ9a92"
      }
    },
    {
      "cell_type": "markdown",
      "source": [
        "#_02. 모듈, 데이터 로딩 및 데이터 확인 "
      ],
      "metadata": {
        "id": "Dv3Ha_lI9nk6"
      }
    },
    {
      "cell_type": "code",
      "execution_count": 1,
      "metadata": {
        "id": "0xKh47L19UxT"
      },
      "outputs": [],
      "source": [
        "import numpy as np \n",
        "import pandas as pd \n",
        "import matplotlib.pyplot as plt \n",
        "import seaborn as sns"
      ]
    },
    {
      "cell_type": "code",
      "source": [
        "data = pd.read_csv('advertising.csv')"
      ],
      "metadata": {
        "id": "9jyKKUOc-I5O"
      },
      "execution_count": 5,
      "outputs": []
    },
    {
      "cell_type": "code",
      "source": [
        "data.head(10)"
      ],
      "metadata": {
        "id": "G7IWldmu-abC",
        "colab": {
          "base_uri": "https://localhost:8080/",
          "height": 511
        },
        "outputId": "88314bf8-3e76-4aab-8c6d-1d8834d81677"
      },
      "execution_count": 6,
      "outputs": [
        {
          "output_type": "execute_result",
          "data": {
            "text/plain": [
              "   Daily Time Spent on Site   Age  Area Income  Daily Internet Usage  \\\n",
              "0                     68.95   NaN     61833.90                256.09   \n",
              "1                     80.23  31.0     68441.85                193.77   \n",
              "2                     69.47  26.0     59785.94                236.50   \n",
              "3                     74.15  29.0     54806.18                245.89   \n",
              "4                     68.37  35.0     73889.99                225.58   \n",
              "5                     59.99  23.0     59761.56                226.74   \n",
              "6                     88.91   NaN     53852.85                208.36   \n",
              "7                     66.00  48.0     24593.33                131.76   \n",
              "8                     74.53  30.0     68862.00                221.51   \n",
              "9                     69.88  20.0     55642.32                183.82   \n",
              "\n",
              "                           Ad Topic Line              City  Male     Country  \\\n",
              "0     Cloned 5thgeneration orchestration       Wrightburgh     0     Tunisia   \n",
              "1     Monitored national standardization         West Jodi     1       Nauru   \n",
              "2       Organic bottom-line service-desk          Davidton     0  San Marino   \n",
              "3  Triple-buffered reciprocal time-frame    West Terrifurt     1       Italy   \n",
              "4          Robust logistical utilization      South Manuel     0     Iceland   \n",
              "5        Sharable client-driven software         Jamieberg     1      Norway   \n",
              "6             Enhanced dedicated support       Brandonstad     0     Myanmar   \n",
              "7               Reactive local challenge  Port Jefferybury     1   Australia   \n",
              "8         Configurable coherent function        West Colin     1     Grenada   \n",
              "9     Mandatory homogeneous architecture        Ramirezton     1       Ghana   \n",
              "\n",
              "         Timestamp  Clicked on Ad  \n",
              "0   3/27/2016 0:53              0  \n",
              "1    4/4/2016 1:39              0  \n",
              "2  3/13/2016 20:35              0  \n",
              "3   1/10/2016 2:31              0  \n",
              "4    6/3/2016 3:36              0  \n",
              "5  5/19/2016 14:30              0  \n",
              "6  1/28/2016 20:59              0  \n",
              "7    3/7/2016 1:40              1  \n",
              "8   4/18/2016 9:33              0  \n",
              "9   7/11/2016 1:42              0  "
            ],
            "text/html": [
              "\n",
              "  <div id=\"df-9b91dcd7-6078-4676-90d0-8daa8b8a36d1\">\n",
              "    <div class=\"colab-df-container\">\n",
              "      <div>\n",
              "<style scoped>\n",
              "    .dataframe tbody tr th:only-of-type {\n",
              "        vertical-align: middle;\n",
              "    }\n",
              "\n",
              "    .dataframe tbody tr th {\n",
              "        vertical-align: top;\n",
              "    }\n",
              "\n",
              "    .dataframe thead th {\n",
              "        text-align: right;\n",
              "    }\n",
              "</style>\n",
              "<table border=\"1\" class=\"dataframe\">\n",
              "  <thead>\n",
              "    <tr style=\"text-align: right;\">\n",
              "      <th></th>\n",
              "      <th>Daily Time Spent on Site</th>\n",
              "      <th>Age</th>\n",
              "      <th>Area Income</th>\n",
              "      <th>Daily Internet Usage</th>\n",
              "      <th>Ad Topic Line</th>\n",
              "      <th>City</th>\n",
              "      <th>Male</th>\n",
              "      <th>Country</th>\n",
              "      <th>Timestamp</th>\n",
              "      <th>Clicked on Ad</th>\n",
              "    </tr>\n",
              "  </thead>\n",
              "  <tbody>\n",
              "    <tr>\n",
              "      <th>0</th>\n",
              "      <td>68.95</td>\n",
              "      <td>NaN</td>\n",
              "      <td>61833.90</td>\n",
              "      <td>256.09</td>\n",
              "      <td>Cloned 5thgeneration orchestration</td>\n",
              "      <td>Wrightburgh</td>\n",
              "      <td>0</td>\n",
              "      <td>Tunisia</td>\n",
              "      <td>3/27/2016 0:53</td>\n",
              "      <td>0</td>\n",
              "    </tr>\n",
              "    <tr>\n",
              "      <th>1</th>\n",
              "      <td>80.23</td>\n",
              "      <td>31.0</td>\n",
              "      <td>68441.85</td>\n",
              "      <td>193.77</td>\n",
              "      <td>Monitored national standardization</td>\n",
              "      <td>West Jodi</td>\n",
              "      <td>1</td>\n",
              "      <td>Nauru</td>\n",
              "      <td>4/4/2016 1:39</td>\n",
              "      <td>0</td>\n",
              "    </tr>\n",
              "    <tr>\n",
              "      <th>2</th>\n",
              "      <td>69.47</td>\n",
              "      <td>26.0</td>\n",
              "      <td>59785.94</td>\n",
              "      <td>236.50</td>\n",
              "      <td>Organic bottom-line service-desk</td>\n",
              "      <td>Davidton</td>\n",
              "      <td>0</td>\n",
              "      <td>San Marino</td>\n",
              "      <td>3/13/2016 20:35</td>\n",
              "      <td>0</td>\n",
              "    </tr>\n",
              "    <tr>\n",
              "      <th>3</th>\n",
              "      <td>74.15</td>\n",
              "      <td>29.0</td>\n",
              "      <td>54806.18</td>\n",
              "      <td>245.89</td>\n",
              "      <td>Triple-buffered reciprocal time-frame</td>\n",
              "      <td>West Terrifurt</td>\n",
              "      <td>1</td>\n",
              "      <td>Italy</td>\n",
              "      <td>1/10/2016 2:31</td>\n",
              "      <td>0</td>\n",
              "    </tr>\n",
              "    <tr>\n",
              "      <th>4</th>\n",
              "      <td>68.37</td>\n",
              "      <td>35.0</td>\n",
              "      <td>73889.99</td>\n",
              "      <td>225.58</td>\n",
              "      <td>Robust logistical utilization</td>\n",
              "      <td>South Manuel</td>\n",
              "      <td>0</td>\n",
              "      <td>Iceland</td>\n",
              "      <td>6/3/2016 3:36</td>\n",
              "      <td>0</td>\n",
              "    </tr>\n",
              "    <tr>\n",
              "      <th>5</th>\n",
              "      <td>59.99</td>\n",
              "      <td>23.0</td>\n",
              "      <td>59761.56</td>\n",
              "      <td>226.74</td>\n",
              "      <td>Sharable client-driven software</td>\n",
              "      <td>Jamieberg</td>\n",
              "      <td>1</td>\n",
              "      <td>Norway</td>\n",
              "      <td>5/19/2016 14:30</td>\n",
              "      <td>0</td>\n",
              "    </tr>\n",
              "    <tr>\n",
              "      <th>6</th>\n",
              "      <td>88.91</td>\n",
              "      <td>NaN</td>\n",
              "      <td>53852.85</td>\n",
              "      <td>208.36</td>\n",
              "      <td>Enhanced dedicated support</td>\n",
              "      <td>Brandonstad</td>\n",
              "      <td>0</td>\n",
              "      <td>Myanmar</td>\n",
              "      <td>1/28/2016 20:59</td>\n",
              "      <td>0</td>\n",
              "    </tr>\n",
              "    <tr>\n",
              "      <th>7</th>\n",
              "      <td>66.00</td>\n",
              "      <td>48.0</td>\n",
              "      <td>24593.33</td>\n",
              "      <td>131.76</td>\n",
              "      <td>Reactive local challenge</td>\n",
              "      <td>Port Jefferybury</td>\n",
              "      <td>1</td>\n",
              "      <td>Australia</td>\n",
              "      <td>3/7/2016 1:40</td>\n",
              "      <td>1</td>\n",
              "    </tr>\n",
              "    <tr>\n",
              "      <th>8</th>\n",
              "      <td>74.53</td>\n",
              "      <td>30.0</td>\n",
              "      <td>68862.00</td>\n",
              "      <td>221.51</td>\n",
              "      <td>Configurable coherent function</td>\n",
              "      <td>West Colin</td>\n",
              "      <td>1</td>\n",
              "      <td>Grenada</td>\n",
              "      <td>4/18/2016 9:33</td>\n",
              "      <td>0</td>\n",
              "    </tr>\n",
              "    <tr>\n",
              "      <th>9</th>\n",
              "      <td>69.88</td>\n",
              "      <td>20.0</td>\n",
              "      <td>55642.32</td>\n",
              "      <td>183.82</td>\n",
              "      <td>Mandatory homogeneous architecture</td>\n",
              "      <td>Ramirezton</td>\n",
              "      <td>1</td>\n",
              "      <td>Ghana</td>\n",
              "      <td>7/11/2016 1:42</td>\n",
              "      <td>0</td>\n",
              "    </tr>\n",
              "  </tbody>\n",
              "</table>\n",
              "</div>\n",
              "      <button class=\"colab-df-convert\" onclick=\"convertToInteractive('df-9b91dcd7-6078-4676-90d0-8daa8b8a36d1')\"\n",
              "              title=\"Convert this dataframe to an interactive table.\"\n",
              "              style=\"display:none;\">\n",
              "        \n",
              "  <svg xmlns=\"http://www.w3.org/2000/svg\" height=\"24px\"viewBox=\"0 0 24 24\"\n",
              "       width=\"24px\">\n",
              "    <path d=\"M0 0h24v24H0V0z\" fill=\"none\"/>\n",
              "    <path d=\"M18.56 5.44l.94 2.06.94-2.06 2.06-.94-2.06-.94-.94-2.06-.94 2.06-2.06.94zm-11 1L8.5 8.5l.94-2.06 2.06-.94-2.06-.94L8.5 2.5l-.94 2.06-2.06.94zm10 10l.94 2.06.94-2.06 2.06-.94-2.06-.94-.94-2.06-.94 2.06-2.06.94z\"/><path d=\"M17.41 7.96l-1.37-1.37c-.4-.4-.92-.59-1.43-.59-.52 0-1.04.2-1.43.59L10.3 9.45l-7.72 7.72c-.78.78-.78 2.05 0 2.83L4 21.41c.39.39.9.59 1.41.59.51 0 1.02-.2 1.41-.59l7.78-7.78 2.81-2.81c.8-.78.8-2.07 0-2.86zM5.41 20L4 18.59l7.72-7.72 1.47 1.35L5.41 20z\"/>\n",
              "  </svg>\n",
              "      </button>\n",
              "      \n",
              "  <style>\n",
              "    .colab-df-container {\n",
              "      display:flex;\n",
              "      flex-wrap:wrap;\n",
              "      gap: 12px;\n",
              "    }\n",
              "\n",
              "    .colab-df-convert {\n",
              "      background-color: #E8F0FE;\n",
              "      border: none;\n",
              "      border-radius: 50%;\n",
              "      cursor: pointer;\n",
              "      display: none;\n",
              "      fill: #1967D2;\n",
              "      height: 32px;\n",
              "      padding: 0 0 0 0;\n",
              "      width: 32px;\n",
              "    }\n",
              "\n",
              "    .colab-df-convert:hover {\n",
              "      background-color: #E2EBFA;\n",
              "      box-shadow: 0px 1px 2px rgba(60, 64, 67, 0.3), 0px 1px 3px 1px rgba(60, 64, 67, 0.15);\n",
              "      fill: #174EA6;\n",
              "    }\n",
              "\n",
              "    [theme=dark] .colab-df-convert {\n",
              "      background-color: #3B4455;\n",
              "      fill: #D2E3FC;\n",
              "    }\n",
              "\n",
              "    [theme=dark] .colab-df-convert:hover {\n",
              "      background-color: #434B5C;\n",
              "      box-shadow: 0px 1px 3px 1px rgba(0, 0, 0, 0.15);\n",
              "      filter: drop-shadow(0px 1px 2px rgba(0, 0, 0, 0.3));\n",
              "      fill: #FFFFFF;\n",
              "    }\n",
              "  </style>\n",
              "\n",
              "      <script>\n",
              "        const buttonEl =\n",
              "          document.querySelector('#df-9b91dcd7-6078-4676-90d0-8daa8b8a36d1 button.colab-df-convert');\n",
              "        buttonEl.style.display =\n",
              "          google.colab.kernel.accessAllowed ? 'block' : 'none';\n",
              "\n",
              "        async function convertToInteractive(key) {\n",
              "          const element = document.querySelector('#df-9b91dcd7-6078-4676-90d0-8daa8b8a36d1');\n",
              "          const dataTable =\n",
              "            await google.colab.kernel.invokeFunction('convertToInteractive',\n",
              "                                                     [key], {});\n",
              "          if (!dataTable) return;\n",
              "\n",
              "          const docLinkHtml = 'Like what you see? Visit the ' +\n",
              "            '<a target=\"_blank\" href=https://colab.research.google.com/notebooks/data_table.ipynb>data table notebook</a>'\n",
              "            + ' to learn more about interactive tables.';\n",
              "          element.innerHTML = '';\n",
              "          dataTable['output_type'] = 'display_data';\n",
              "          await google.colab.output.renderOutput(dataTable, element);\n",
              "          const docLink = document.createElement('div');\n",
              "          docLink.innerHTML = docLinkHtml;\n",
              "          element.appendChild(docLink);\n",
              "        }\n",
              "      </script>\n",
              "    </div>\n",
              "  </div>\n",
              "  "
            ]
          },
          "metadata": {},
          "execution_count": 6
        }
      ]
    },
    {
      "cell_type": "markdown",
      "source": [
        "#_03. 결측치 확인 및 처리 "
      ],
      "metadata": {
        "id": "XQ7tHIIq9rrO"
      }
    },
    {
      "cell_type": "code",
      "source": [
        "data.info() # Age에 결측치 존재 \n",
        "# Area Income: 개인에 대한 정확한 income 아님, 지역의 평균 "
      ],
      "metadata": {
        "id": "5jS81ncm9uPB",
        "colab": {
          "base_uri": "https://localhost:8080/"
        },
        "outputId": "4305f185-d0df-47c7-94ff-eda6a93ef229"
      },
      "execution_count": 7,
      "outputs": [
        {
          "output_type": "stream",
          "name": "stdout",
          "text": [
            "<class 'pandas.core.frame.DataFrame'>\n",
            "RangeIndex: 1000 entries, 0 to 999\n",
            "Data columns (total 10 columns):\n",
            " #   Column                    Non-Null Count  Dtype  \n",
            "---  ------                    --------------  -----  \n",
            " 0   Daily Time Spent on Site  1000 non-null   float64\n",
            " 1   Age                       916 non-null    float64\n",
            " 2   Area Income               1000 non-null   float64\n",
            " 3   Daily Internet Usage      1000 non-null   float64\n",
            " 4   Ad Topic Line             1000 non-null   object \n",
            " 5   City                      1000 non-null   object \n",
            " 6   Male                      1000 non-null   int64  \n",
            " 7   Country                   1000 non-null   object \n",
            " 8   Timestamp                 1000 non-null   object \n",
            " 9   Clicked on Ad             1000 non-null   int64  \n",
            "dtypes: float64(4), int64(2), object(4)\n",
            "memory usage: 78.2+ KB\n"
          ]
        }
      ]
    },
    {
      "cell_type": "code",
      "source": [
        "data.describe()"
      ],
      "metadata": {
        "id": "oKY0FEK29uV5",
        "colab": {
          "base_uri": "https://localhost:8080/",
          "height": 300
        },
        "outputId": "d61958de-9f94-4411-ed93-9ba0a709d36f"
      },
      "execution_count": 8,
      "outputs": [
        {
          "output_type": "execute_result",
          "data": {
            "text/plain": [
              "       Daily Time Spent on Site         Age   Area Income  \\\n",
              "count               1000.000000  916.000000   1000.000000   \n",
              "mean                  65.000200   36.128821  55000.000080   \n",
              "std                   15.853615    9.018548  13414.634022   \n",
              "min                   32.600000   19.000000  13996.500000   \n",
              "25%                   51.360000   29.000000  47031.802500   \n",
              "50%                   68.215000   35.000000  57012.300000   \n",
              "75%                   78.547500   42.000000  65470.635000   \n",
              "max                   91.430000   61.000000  79484.800000   \n",
              "\n",
              "       Daily Internet Usage         Male  Clicked on Ad  \n",
              "count           1000.000000  1000.000000     1000.00000  \n",
              "mean             180.000100     0.481000        0.50000  \n",
              "std               43.902339     0.499889        0.50025  \n",
              "min              104.780000     0.000000        0.00000  \n",
              "25%              138.830000     0.000000        0.00000  \n",
              "50%              183.130000     0.000000        0.50000  \n",
              "75%              218.792500     1.000000        1.00000  \n",
              "max              269.960000     1.000000        1.00000  "
            ],
            "text/html": [
              "\n",
              "  <div id=\"df-a0f98407-94ed-4d2a-abca-fd5c88e119df\">\n",
              "    <div class=\"colab-df-container\">\n",
              "      <div>\n",
              "<style scoped>\n",
              "    .dataframe tbody tr th:only-of-type {\n",
              "        vertical-align: middle;\n",
              "    }\n",
              "\n",
              "    .dataframe tbody tr th {\n",
              "        vertical-align: top;\n",
              "    }\n",
              "\n",
              "    .dataframe thead th {\n",
              "        text-align: right;\n",
              "    }\n",
              "</style>\n",
              "<table border=\"1\" class=\"dataframe\">\n",
              "  <thead>\n",
              "    <tr style=\"text-align: right;\">\n",
              "      <th></th>\n",
              "      <th>Daily Time Spent on Site</th>\n",
              "      <th>Age</th>\n",
              "      <th>Area Income</th>\n",
              "      <th>Daily Internet Usage</th>\n",
              "      <th>Male</th>\n",
              "      <th>Clicked on Ad</th>\n",
              "    </tr>\n",
              "  </thead>\n",
              "  <tbody>\n",
              "    <tr>\n",
              "      <th>count</th>\n",
              "      <td>1000.000000</td>\n",
              "      <td>916.000000</td>\n",
              "      <td>1000.000000</td>\n",
              "      <td>1000.000000</td>\n",
              "      <td>1000.000000</td>\n",
              "      <td>1000.00000</td>\n",
              "    </tr>\n",
              "    <tr>\n",
              "      <th>mean</th>\n",
              "      <td>65.000200</td>\n",
              "      <td>36.128821</td>\n",
              "      <td>55000.000080</td>\n",
              "      <td>180.000100</td>\n",
              "      <td>0.481000</td>\n",
              "      <td>0.50000</td>\n",
              "    </tr>\n",
              "    <tr>\n",
              "      <th>std</th>\n",
              "      <td>15.853615</td>\n",
              "      <td>9.018548</td>\n",
              "      <td>13414.634022</td>\n",
              "      <td>43.902339</td>\n",
              "      <td>0.499889</td>\n",
              "      <td>0.50025</td>\n",
              "    </tr>\n",
              "    <tr>\n",
              "      <th>min</th>\n",
              "      <td>32.600000</td>\n",
              "      <td>19.000000</td>\n",
              "      <td>13996.500000</td>\n",
              "      <td>104.780000</td>\n",
              "      <td>0.000000</td>\n",
              "      <td>0.00000</td>\n",
              "    </tr>\n",
              "    <tr>\n",
              "      <th>25%</th>\n",
              "      <td>51.360000</td>\n",
              "      <td>29.000000</td>\n",
              "      <td>47031.802500</td>\n",
              "      <td>138.830000</td>\n",
              "      <td>0.000000</td>\n",
              "      <td>0.00000</td>\n",
              "    </tr>\n",
              "    <tr>\n",
              "      <th>50%</th>\n",
              "      <td>68.215000</td>\n",
              "      <td>35.000000</td>\n",
              "      <td>57012.300000</td>\n",
              "      <td>183.130000</td>\n",
              "      <td>0.000000</td>\n",
              "      <td>0.50000</td>\n",
              "    </tr>\n",
              "    <tr>\n",
              "      <th>75%</th>\n",
              "      <td>78.547500</td>\n",
              "      <td>42.000000</td>\n",
              "      <td>65470.635000</td>\n",
              "      <td>218.792500</td>\n",
              "      <td>1.000000</td>\n",
              "      <td>1.00000</td>\n",
              "    </tr>\n",
              "    <tr>\n",
              "      <th>max</th>\n",
              "      <td>91.430000</td>\n",
              "      <td>61.000000</td>\n",
              "      <td>79484.800000</td>\n",
              "      <td>269.960000</td>\n",
              "      <td>1.000000</td>\n",
              "      <td>1.00000</td>\n",
              "    </tr>\n",
              "  </tbody>\n",
              "</table>\n",
              "</div>\n",
              "      <button class=\"colab-df-convert\" onclick=\"convertToInteractive('df-a0f98407-94ed-4d2a-abca-fd5c88e119df')\"\n",
              "              title=\"Convert this dataframe to an interactive table.\"\n",
              "              style=\"display:none;\">\n",
              "        \n",
              "  <svg xmlns=\"http://www.w3.org/2000/svg\" height=\"24px\"viewBox=\"0 0 24 24\"\n",
              "       width=\"24px\">\n",
              "    <path d=\"M0 0h24v24H0V0z\" fill=\"none\"/>\n",
              "    <path d=\"M18.56 5.44l.94 2.06.94-2.06 2.06-.94-2.06-.94-.94-2.06-.94 2.06-2.06.94zm-11 1L8.5 8.5l.94-2.06 2.06-.94-2.06-.94L8.5 2.5l-.94 2.06-2.06.94zm10 10l.94 2.06.94-2.06 2.06-.94-2.06-.94-.94-2.06-.94 2.06-2.06.94z\"/><path d=\"M17.41 7.96l-1.37-1.37c-.4-.4-.92-.59-1.43-.59-.52 0-1.04.2-1.43.59L10.3 9.45l-7.72 7.72c-.78.78-.78 2.05 0 2.83L4 21.41c.39.39.9.59 1.41.59.51 0 1.02-.2 1.41-.59l7.78-7.78 2.81-2.81c.8-.78.8-2.07 0-2.86zM5.41 20L4 18.59l7.72-7.72 1.47 1.35L5.41 20z\"/>\n",
              "  </svg>\n",
              "      </button>\n",
              "      \n",
              "  <style>\n",
              "    .colab-df-container {\n",
              "      display:flex;\n",
              "      flex-wrap:wrap;\n",
              "      gap: 12px;\n",
              "    }\n",
              "\n",
              "    .colab-df-convert {\n",
              "      background-color: #E8F0FE;\n",
              "      border: none;\n",
              "      border-radius: 50%;\n",
              "      cursor: pointer;\n",
              "      display: none;\n",
              "      fill: #1967D2;\n",
              "      height: 32px;\n",
              "      padding: 0 0 0 0;\n",
              "      width: 32px;\n",
              "    }\n",
              "\n",
              "    .colab-df-convert:hover {\n",
              "      background-color: #E2EBFA;\n",
              "      box-shadow: 0px 1px 2px rgba(60, 64, 67, 0.3), 0px 1px 3px 1px rgba(60, 64, 67, 0.15);\n",
              "      fill: #174EA6;\n",
              "    }\n",
              "\n",
              "    [theme=dark] .colab-df-convert {\n",
              "      background-color: #3B4455;\n",
              "      fill: #D2E3FC;\n",
              "    }\n",
              "\n",
              "    [theme=dark] .colab-df-convert:hover {\n",
              "      background-color: #434B5C;\n",
              "      box-shadow: 0px 1px 3px 1px rgba(0, 0, 0, 0.15);\n",
              "      filter: drop-shadow(0px 1px 2px rgba(0, 0, 0, 0.3));\n",
              "      fill: #FFFFFF;\n",
              "    }\n",
              "  </style>\n",
              "\n",
              "      <script>\n",
              "        const buttonEl =\n",
              "          document.querySelector('#df-a0f98407-94ed-4d2a-abca-fd5c88e119df button.colab-df-convert');\n",
              "        buttonEl.style.display =\n",
              "          google.colab.kernel.accessAllowed ? 'block' : 'none';\n",
              "\n",
              "        async function convertToInteractive(key) {\n",
              "          const element = document.querySelector('#df-a0f98407-94ed-4d2a-abca-fd5c88e119df');\n",
              "          const dataTable =\n",
              "            await google.colab.kernel.invokeFunction('convertToInteractive',\n",
              "                                                     [key], {});\n",
              "          if (!dataTable) return;\n",
              "\n",
              "          const docLinkHtml = 'Like what you see? Visit the ' +\n",
              "            '<a target=\"_blank\" href=https://colab.research.google.com/notebooks/data_table.ipynb>data table notebook</a>'\n",
              "            + ' to learn more about interactive tables.';\n",
              "          element.innerHTML = '';\n",
              "          dataTable['output_type'] = 'display_data';\n",
              "          await google.colab.output.renderOutput(dataTable, element);\n",
              "          const docLink = document.createElement('div');\n",
              "          docLink.innerHTML = docLinkHtml;\n",
              "          element.appendChild(docLink);\n",
              "        }\n",
              "      </script>\n",
              "    </div>\n",
              "  </div>\n",
              "  "
            ]
          },
          "metadata": {},
          "execution_count": 8
        }
      ]
    },
    {
      "cell_type": "code",
      "source": [
        "sns.displot(data['Area Income'])"
      ],
      "metadata": {
        "colab": {
          "base_uri": "https://localhost:8080/",
          "height": 524
        },
        "id": "LBFRTkomvCkp",
        "outputId": "b0fbff87-424f-4c91-e318-898f5f1795f8"
      },
      "execution_count": 11,
      "outputs": [
        {
          "output_type": "execute_result",
          "data": {
            "text/plain": [
              "<seaborn.axisgrid.FacetGrid at 0x7fd7a35aae90>"
            ]
          },
          "metadata": {},
          "execution_count": 11
        },
        {
          "output_type": "display_data",
          "data": {
            "text/plain": [
              "<Figure size 500x500 with 1 Axes>"
            ],
            "image/png": "[encoded data removed]"
          },
          "metadata": {}
        }
      ]
    },
    {
      "cell_type": "code",
      "source": [
        "sns.displot(data['Age']) # 이 정도는 처리 안해줘도 ok "
      ],
      "metadata": {
        "colab": {
          "base_uri": "https://localhost:8080/",
          "height": 524
        },
        "id": "34DJQ61cvnhB",
        "outputId": "bf0e3b0d-8cdb-4e9b-f853-6f4361b06f0f"
      },
      "execution_count": 12,
      "outputs": [
        {
          "output_type": "execute_result",
          "data": {
            "text/plain": [
              "<seaborn.axisgrid.FacetGrid at 0x7fd76daa9cc0>"
            ]
          },
          "metadata": {},
          "execution_count": 12
        },
        {
          "output_type": "display_data",
          "data": {
            "text/plain": [
              "<Figure size 500x500 with 1 Axes>"
            ],
            "image/png": "[encoded data removed]"
          },
          "metadata": {}
        }
      ]
    },
    {
      "cell_type": "code",
      "source": [
        "data['Country'].nunique()"
      ],
      "metadata": {
        "colab": {
          "base_uri": "https://localhost:8080/"
        },
        "id": "g_czjpTQvCrI",
        "outputId": "218a0720-4c67-4fa7-8ddf-a726aa7f5528"
      },
      "execution_count": 13,
      "outputs": [
        {
          "output_type": "execute_result",
          "data": {
            "text/plain": [
              "237"
            ]
          },
          "metadata": {},
          "execution_count": 13
        }
      ]
    },
    {
      "cell_type": "code",
      "source": [
        "data['City'].nunique()"
      ],
      "metadata": {
        "colab": {
          "base_uri": "https://localhost:8080/"
        },
        "id": "S2Xhf1Owv0GW",
        "outputId": "fd27695d-096e-4496-a480-52348479f47c"
      },
      "execution_count": 15,
      "outputs": [
        {
          "output_type": "execute_result",
          "data": {
            "text/plain": [
              "969"
            ]
          },
          "metadata": {},
          "execution_count": 15
        }
      ]
    },
    {
      "cell_type": "code",
      "source": [
        "data['Ad Topic Line'].nunique() # 각 Ad line이 모두 다름 \n",
        "# 지금 단계에서 이것은 활용 X "
      ],
      "metadata": {
        "colab": {
          "base_uri": "https://localhost:8080/"
        },
        "id": "PCpMbEGwv3mi",
        "outputId": "a5a99cde-520d-4777-c561-1fe74620c572"
      },
      "execution_count": 16,
      "outputs": [
        {
          "output_type": "execute_result",
          "data": {
            "text/plain": [
              "1000"
            ]
          },
          "metadata": {},
          "execution_count": 16
        }
      ]
    },
    {
      "cell_type": "code",
      "source": [
        "data.isna().sum() / len(data) # 모델링 전 결측치 처리해야 함 "
      ],
      "metadata": {
        "colab": {
          "base_uri": "https://localhost:8080/"
        },
        "id": "-Z1V-p42v9DC",
        "outputId": "1575259e-6184-4434-87b5-2fa51dc34e4c"
      },
      "execution_count": 19,
      "outputs": [
        {
          "output_type": "execute_result",
          "data": {
            "text/plain": [
              "Daily Time Spent on Site    0.000\n",
              "Age                         0.084\n",
              "Area Income                 0.000\n",
              "Daily Internet Usage        0.000\n",
              "Ad Topic Line               0.000\n",
              "City                        0.000\n",
              "Male                        0.000\n",
              "Country                     0.000\n",
              "Timestamp                   0.000\n",
              "Clicked on Ad               0.000\n",
              "dtype: float64"
            ]
          },
          "metadata": {},
          "execution_count": 19
        }
      ]
    },
    {
      "cell_type": "code",
      "source": [
        "data_01 = data.dropna() # 행 자체를 날려버림. 결측치 너무 많을 경우 문제 됨 "
      ],
      "metadata": {
        "id": "fyod6NvYwdDW"
      },
      "execution_count": 20,
      "outputs": []
    },
    {
      "cell_type": "code",
      "source": [
        "data_02 = data.drop('Age', axis = 1) # Age가 중요한 변수일 수도 있으므로 주의 "
      ],
      "metadata": {
        "id": "W7Ype9H_wdKK"
      },
      "execution_count": 21,
      "outputs": []
    },
    {
      "cell_type": "markdown",
      "source": [
        "- 보통 mean, median로 fill\n",
        "- mean을 가장 추천  "
      ],
      "metadata": {
        "id": "t1kn-bMQxiqv"
      }
    },
    {
      "cell_type": "code",
      "source": [
        "data_mean = data.fillna(round(data['Age'].mean())) \n",
        "data['Age'].mean()"
      ],
      "metadata": {
        "colab": {
          "base_uri": "https://localhost:8080/"
        },
        "id": "iF67Aqb5xP0k",
        "outputId": "033978d1-2334-48f6-9cf3-4a257dd65333"
      },
      "execution_count": 25,
      "outputs": [
        {
          "output_type": "execute_result",
          "data": {
            "text/plain": [
              "36.12882096069869"
            ]
          },
          "metadata": {},
          "execution_count": 25
        }
      ]
    },
    {
      "cell_type": "code",
      "source": [
        "data_med = data.fillna(round(data['Age'].median())) \n",
        "data['Age'].median()"
      ],
      "metadata": {
        "colab": {
          "base_uri": "https://localhost:8080/"
        },
        "id": "XTu1BdcTxlfp",
        "outputId": "819ca4dc-e215-4577-82aa-9565bc9a687c"
      },
      "execution_count": 27,
      "outputs": [
        {
          "output_type": "execute_result",
          "data": {
            "text/plain": [
              "35.0"
            ]
          },
          "metadata": {},
          "execution_count": 27
        }
      ]
    },
    {
      "cell_type": "code",
      "source": [
        "data = data_mean.copy()"
      ],
      "metadata": {
        "id": "P2CEmEtYx8wq"
      },
      "execution_count": 28,
      "outputs": []
    },
    {
      "cell_type": "markdown",
      "source": [
        "많은 missing value가 있을 경우에는, **column 자체를 drop 하는 게 나음**\n",
        "- 때에 따라, 결측치 자체가 의미가 있는 경우도 있음\n",
        "  - ex) 은행에서 정보가 너무 없는 고객 추려내기 \n",
        "  - 텍스트 컬럼으로 바꿔버리기 (카테고리화) "
      ],
      "metadata": {
        "id": "4MAaEyU3yDi2"
      }
    },
    {
      "cell_type": "markdown",
      "source": [
        "#_04. Train, Test set 나누기 "
      ],
      "metadata": {
        "id": "jqt5aWsY9ue9"
      }
    },
    {
      "cell_type": "code",
      "source": [
        "from sklearn.model_selection import train_test_split "
      ],
      "metadata": {
        "id": "k4dyAWAi9yO0"
      },
      "execution_count": 29,
      "outputs": []
    },
    {
      "cell_type": "code",
      "source": [
        "cols = data.columns.tolist()\n",
        "cols"
      ],
      "metadata": {
        "colab": {
          "base_uri": "https://localhost:8080/"
        },
        "id": "6SpS9Bmc2OcD",
        "outputId": "5f34dd37-38c4-45b9-9295-a1f8040b4140"
      },
      "execution_count": 34,
      "outputs": [
        {
          "output_type": "execute_result",
          "data": {
            "text/plain": [
              "['Daily Time Spent on Site',\n",
              " 'Age',\n",
              " 'Area Income',\n",
              " 'Daily Internet Usage',\n",
              " 'Ad Topic Line',\n",
              " 'City',\n",
              " 'Male',\n",
              " 'Country',\n",
              " 'Timestamp',\n",
              " 'Clicked on Ad']"
            ]
          },
          "metadata": {},
          "execution_count": 34
        }
      ]
    },
    {
      "cell_type": "code",
      "source": [
        "X = data[['Daily Time Spent on Site','Age', 'Area Income', 'Daily Internet Usage', 'Male']]\n",
        "y = data['Clicked on Ad']\n",
        "\n",
        "X_train, X_test, y_train, y_test = train_test_split(X, y, test_size = 0.3, random_state = 100)\n",
        "# 데이터가 충분히 많다면 6:4도 ok \n",
        "# train이 충분히 많아야 함 "
      ],
      "metadata": {
        "id": "gqz6Y71e9yV0"
      },
      "execution_count": 36,
      "outputs": []
    },
    {
      "cell_type": "code",
      "source": [
        "X_train"
      ],
      "metadata": {
        "colab": {
          "base_uri": "https://localhost:8080/",
          "height": 423
        },
        "id": "SPJjkJwD3GxF",
        "outputId": "90c425eb-d1bf-45a8-9c57-786748687a48"
      },
      "execution_count": 37,
      "outputs": [
        {
          "output_type": "execute_result",
          "data": {
            "text/plain": [
              "     Daily Time Spent on Site   Age  Area Income  Daily Internet Usage  Male\n",
              "420                     34.30  41.0     53167.68                160.74     1\n",
              "278                     81.37  26.0     53049.44                156.48     1\n",
              "218                     34.87  40.0     59621.02                200.23     0\n",
              "363                     73.30  36.0     68211.35                135.72     1\n",
              "850                     78.58  33.0     51772.58                250.11     1\n",
              "..                        ...   ...          ...                   ...   ...\n",
              "855                     50.87  24.0     62939.50                190.41     0\n",
              "871                     76.79  27.0     55677.12                235.94     0\n",
              "835                     63.11  34.0     63107.88                254.94     1\n",
              "792                     56.56  26.0     68783.45                204.47     1\n",
              "520                     46.61  42.0     65856.74                136.18     0\n",
              "\n",
              "[700 rows x 5 columns]"
            ],
            "text/html": [
              "\n",
              "  <div id=\"df-dfa1aa65-6dfb-4abb-896b-1ddda7c0cac3\">\n",
              "    <div class=\"colab-df-container\">\n",
              "      <div>\n",
              "<style scoped>\n",
              "    .dataframe tbody tr th:only-of-type {\n",
              "        vertical-align: middle;\n",
              "    }\n",
              "\n",
              "    .dataframe tbody tr th {\n",
              "        vertical-align: top;\n",
              "    }\n",
              "\n",
              "    .dataframe thead th {\n",
              "        text-align: right;\n",
              "    }\n",
              "</style>\n",
              "<table border=\"1\" class=\"dataframe\">\n",
              "  <thead>\n",
              "    <tr style=\"text-align: right;\">\n",
              "      <th></th>\n",
              "      <th>Daily Time Spent on Site</th>\n",
              "      <th>Age</th>\n",
              "      <th>Area Income</th>\n",
              "      <th>Daily Internet Usage</th>\n",
              "      <th>Male</th>\n",
              "    </tr>\n",
              "  </thead>\n",
              "  <tbody>\n",
              "    <tr>\n",
              "      <th>420</th>\n",
              "      <td>34.30</td>\n",
              "      <td>41.0</td>\n",
              "      <td>53167.68</td>\n",
              "      <td>160.74</td>\n",
              "      <td>1</td>\n",
              "    </tr>\n",
              "    <tr>\n",
              "      <th>278</th>\n",
              "      <td>81.37</td>\n",
              "      <td>26.0</td>\n",
              "      <td>53049.44</td>\n",
              "      <td>156.48</td>\n",
              "      <td>1</td>\n",
              "    </tr>\n",
              "    <tr>\n",
              "      <th>218</th>\n",
              "      <td>34.87</td>\n",
              "      <td>40.0</td>\n",
              "      <td>59621.02</td>\n",
              "      <td>200.23</td>\n",
              "      <td>0</td>\n",
              "    </tr>\n",
              "    <tr>\n",
              "      <th>363</th>\n",
              "      <td>73.30</td>\n",
              "      <td>36.0</td>\n",
              "      <td>68211.35</td>\n",
              "      <td>135.72</td>\n",
              "      <td>1</td>\n",
              "    </tr>\n",
              "    <tr>\n",
              "      <th>850</th>\n",
              "      <td>78.58</td>\n",
              "      <td>33.0</td>\n",
              "      <td>51772.58</td>\n",
              "      <td>250.11</td>\n",
              "      <td>1</td>\n",
              "    </tr>\n",
              "    <tr>\n",
              "      <th>...</th>\n",
              "      <td>...</td>\n",
              "      <td>...</td>\n",
              "      <td>...</td>\n",
              "      <td>...</td>\n",
              "      <td>...</td>\n",
              "    </tr>\n",
              "    <tr>\n",
              "      <th>855</th>\n",
              "      <td>50.87</td>\n",
              "      <td>24.0</td>\n",
              "      <td>62939.50</td>\n",
              "      <td>190.41</td>\n",
              "      <td>0</td>\n",
              "    </tr>\n",
              "    <tr>\n",
              "      <th>871</th>\n",
              "      <td>76.79</td>\n",
              "      <td>27.0</td>\n",
              "      <td>55677.12</td>\n",
              "      <td>235.94</td>\n",
              "      <td>0</td>\n",
              "    </tr>\n",
              "    <tr>\n",
              "      <th>835</th>\n",
              "      <td>63.11</td>\n",
              "      <td>34.0</td>\n",
              "      <td>63107.88</td>\n",
              "      <td>254.94</td>\n",
              "      <td>1</td>\n",
              "    </tr>\n",
              "    <tr>\n",
              "      <th>792</th>\n",
              "      <td>56.56</td>\n",
              "      <td>26.0</td>\n",
              "      <td>68783.45</td>\n",
              "      <td>204.47</td>\n",
              "      <td>1</td>\n",
              "    </tr>\n",
              "    <tr>\n",
              "      <th>520</th>\n",
              "      <td>46.61</td>\n",
              "      <td>42.0</td>\n",
              "      <td>65856.74</td>\n",
              "      <td>136.18</td>\n",
              "      <td>0</td>\n",
              "    </tr>\n",
              "  </tbody>\n",
              "</table>\n",
              "<p>700 rows × 5 columns</p>\n",
              "</div>\n",
              "      <button class=\"colab-df-convert\" onclick=\"convertToInteractive('df-dfa1aa65-6dfb-4abb-896b-1ddda7c0cac3')\"\n",
              "              title=\"Convert this dataframe to an interactive table.\"\n",
              "              style=\"display:none;\">\n",
              "        \n",
              "  <svg xmlns=\"http://www.w3.org/2000/svg\" height=\"24px\"viewBox=\"0 0 24 24\"\n",
              "       width=\"24px\">\n",
              "    <path d=\"M0 0h24v24H0V0z\" fill=\"none\"/>\n",
              "    <path d=\"M18.56 5.44l.94 2.06.94-2.06 2.06-.94-2.06-.94-.94-2.06-.94 2.06-2.06.94zm-11 1L8.5 8.5l.94-2.06 2.06-.94-2.06-.94L8.5 2.5l-.94 2.06-2.06.94zm10 10l.94 2.06.94-2.06 2.06-.94-2.06-.94-.94-2.06-.94 2.06-2.06.94z\"/><path d=\"M17.41 7.96l-1.37-1.37c-.4-.4-.92-.59-1.43-.59-.52 0-1.04.2-1.43.59L10.3 9.45l-7.72 7.72c-.78.78-.78 2.05 0 2.83L4 21.41c.39.39.9.59 1.41.59.51 0 1.02-.2 1.41-.59l7.78-7.78 2.81-2.81c.8-.78.8-2.07 0-2.86zM5.41 20L4 18.59l7.72-7.72 1.47 1.35L5.41 20z\"/>\n",
              "  </svg>\n",
              "      </button>\n",
              "      \n",
              "  <style>\n",
              "    .colab-df-container {\n",
              "      display:flex;\n",
              "      flex-wrap:wrap;\n",
              "      gap: 12px;\n",
              "    }\n",
              "\n",
              "    .colab-df-convert {\n",
              "      background-color: #E8F0FE;\n",
              "      border: none;\n",
              "      border-radius: 50%;\n",
              "      cursor: pointer;\n",
              "      display: none;\n",
              "      fill: #1967D2;\n",
              "      height: 32px;\n",
              "      padding: 0 0 0 0;\n",
              "      width: 32px;\n",
              "    }\n",
              "\n",
              "    .colab-df-convert:hover {\n",
              "      background-color: #E2EBFA;\n",
              "      box-shadow: 0px 1px 2px rgba(60, 64, 67, 0.3), 0px 1px 3px 1px rgba(60, 64, 67, 0.15);\n",
              "      fill: #174EA6;\n",
              "    }\n",
              "\n",
              "    [theme=dark] .colab-df-convert {\n",
              "      background-color: #3B4455;\n",
              "      fill: #D2E3FC;\n",
              "    }\n",
              "\n",
              "    [theme=dark] .colab-df-convert:hover {\n",
              "      background-color: #434B5C;\n",
              "      box-shadow: 0px 1px 3px 1px rgba(0, 0, 0, 0.15);\n",
              "      filter: drop-shadow(0px 1px 2px rgba(0, 0, 0, 0.3));\n",
              "      fill: #FFFFFF;\n",
              "    }\n",
              "  </style>\n",
              "\n",
              "      <script>\n",
              "        const buttonEl =\n",
              "          document.querySelector('#df-dfa1aa65-6dfb-4abb-896b-1ddda7c0cac3 button.colab-df-convert');\n",
              "        buttonEl.style.display =\n",
              "          google.colab.kernel.accessAllowed ? 'block' : 'none';\n",
              "\n",
              "        async function convertToInteractive(key) {\n",
              "          const element = document.querySelector('#df-dfa1aa65-6dfb-4abb-896b-1ddda7c0cac3');\n",
              "          const dataTable =\n",
              "            await google.colab.kernel.invokeFunction('convertToInteractive',\n",
              "                                                     [key], {});\n",
              "          if (!dataTable) return;\n",
              "\n",
              "          const docLinkHtml = 'Like what you see? Visit the ' +\n",
              "            '<a target=\"_blank\" href=https://colab.research.google.com/notebooks/data_table.ipynb>data table notebook</a>'\n",
              "            + ' to learn more about interactive tables.';\n",
              "          element.innerHTML = '';\n",
              "          dataTable['output_type'] = 'display_data';\n",
              "          await google.colab.output.renderOutput(dataTable, element);\n",
              "          const docLink = document.createElement('div');\n",
              "          docLink.innerHTML = docLinkHtml;\n",
              "          element.appendChild(docLink);\n",
              "        }\n",
              "      </script>\n",
              "    </div>\n",
              "  </div>\n",
              "  "
            ]
          },
          "metadata": {},
          "execution_count": 37
        }
      ]
    },
    {
      "cell_type": "code",
      "source": [
        "y_train"
      ],
      "metadata": {
        "colab": {
          "base_uri": "https://localhost:8080/"
        },
        "id": "dDX82EYc3Ihi",
        "outputId": "1471234d-a6ec-4ced-921a-7a6acde5032e"
      },
      "execution_count": 40,
      "outputs": [
        {
          "output_type": "execute_result",
          "data": {
            "text/plain": [
              "420    1\n",
              "278    0\n",
              "218    1\n",
              "363    1\n",
              "850    0\n",
              "      ..\n",
              "855    1\n",
              "871    0\n",
              "835    0\n",
              "792    0\n",
              "520    1\n",
              "Name: Clicked on Ad, Length: 700, dtype: int64"
            ]
          },
          "metadata": {},
          "execution_count": 40
        }
      ]
    },
    {
      "cell_type": "markdown",
      "source": [
        "#_05. Logistic Regression Modeling "
      ],
      "metadata": {
        "id": "Jovgg_bz9xjW"
      }
    },
    {
      "cell_type": "code",
      "source": [
        "from sklearn.linear_model import LogisticRegression"
      ],
      "metadata": {
        "id": "7sEkOOq-93js"
      },
      "execution_count": 42,
      "outputs": []
    },
    {
      "cell_type": "code",
      "source": [
        "model = LogisticRegression()"
      ],
      "metadata": {
        "id": "22A8IXao93rY"
      },
      "execution_count": 43,
      "outputs": []
    },
    {
      "cell_type": "code",
      "source": [
        "model.fit(X_train, y_train)"
      ],
      "metadata": {
        "colab": {
          "base_uri": "https://localhost:8080/",
          "height": 74
        },
        "id": "S3xmrKHY3pIW",
        "outputId": "93ffb71f-4c96-40e0-c90c-9bc5c5942ba6"
      },
      "execution_count": 44,
      "outputs": [
        {
          "output_type": "execute_result",
          "data": {
            "text/plain": [
              "LogisticRegression()"
            ],
            "text/html": [
              "<style>#sk-container-id-1 {color: black;background-color: white;}#sk-container-id-1 pre{padding: 0;}#sk-container-id-1 div.sk-toggleable {background-color: white;}#sk-container-id-1 label.sk-toggleable__label {cursor: pointer;display: block;width: 100%;margin-bottom: 0;padding: 0.3em;box-sizing: border-box;text-align: center;}#sk-container-id-1 label.sk-toggleable__label-arrow:before {content: \"▸\";float: left;margin-right: 0.25em;color: #696969;}#sk-container-id-1 label.sk-toggleable__label-arrow:hover:before {color: black;}#sk-container-id-1 div.sk-estimator:hover label.sk-toggleable__label-arrow:before {color: black;}#sk-container-id-1 div.sk-toggleable__content {max-height: 0;max-width: 0;overflow: hidden;text-align: left;background-color: #f0f8ff;}#sk-container-id-1 div.sk-toggleable__content pre {margin: 0.2em;color: black;border-radius: 0.25em;background-color: #f0f8ff;}#sk-container-id-1 input.sk-toggleable__control:checked~div.sk-toggleable__content {max-height: 200px;max-width: 100%;overflow: auto;}#sk-container-id-1 input.sk-toggleable__control:checked~label.sk-toggleable__label-arrow:before {content: \"▾\";}#sk-container-id-1 div.sk-estimator input.sk-toggleable__control:checked~label.sk-toggleable__label {background-color: #d4ebff;}#sk-container-id-1 div.sk-label input.sk-toggleable__control:checked~label.sk-toggleable__label {background-color: #d4ebff;}#sk-container-id-1 input.sk-hidden--visually {border: 0;clip: rect(1px 1px 1px 1px);clip: rect(1px, 1px, 1px, 1px);height: 1px;margin: -1px;overflow: hidden;padding: 0;position: absolute;width: 1px;}#sk-container-id-1 div.sk-estimator {font-family: monospace;background-color: #f0f8ff;border: 1px dotted black;border-radius: 0.25em;box-sizing: border-box;margin-bottom: 0.5em;}#sk-container-id-1 div.sk-estimator:hover {background-color: #d4ebff;}#sk-container-id-1 div.sk-parallel-item::after {content: \"\";width: 100%;border-bottom: 1px solid gray;flex-grow: 1;}#sk-container-id-1 div.sk-label:hover label.sk-toggleable__label {background-color: #d4ebff;}#sk-container-id-1 div.sk-serial::before {content: \"\";position: absolute;border-left: 1px solid gray;box-sizing: border-box;top: 0;bottom: 0;left: 50%;z-index: 0;}#sk-container-id-1 div.sk-serial {display: flex;flex-direction: column;align-items: center;background-color: white;padding-right: 0.2em;padding-left: 0.2em;position: relative;}#sk-container-id-1 div.sk-item {position: relative;z-index: 1;}#sk-container-id-1 div.sk-parallel {display: flex;align-items: stretch;justify-content: center;background-color: white;position: relative;}#sk-container-id-1 div.sk-item::before, #sk-container-id-1 div.sk-parallel-item::before {content: \"\";position: absolute;border-left: 1px solid gray;box-sizing: border-box;top: 0;bottom: 0;left: 50%;z-index: -1;}#sk-container-id-1 div.sk-parallel-item {display: flex;flex-direction: column;z-index: 1;position: relative;background-color: white;}#sk-container-id-1 div.sk-parallel-item:first-child::after {align-self: flex-end;width: 50%;}#sk-container-id-1 div.sk-parallel-item:last-child::after {align-self: flex-start;width: 50%;}#sk-container-id-1 div.sk-parallel-item:only-child::after {width: 0;}#sk-container-id-1 div.sk-dashed-wrapped {border: 1px dashed gray;margin: 0 0.4em 0.5em 0.4em;box-sizing: border-box;padding-bottom: 0.4em;background-color: white;}#sk-container-id-1 div.sk-label label {font-family: monospace;font-weight: bold;display: inline-block;line-height: 1.2em;}#sk-container-id-1 div.sk-label-container {text-align: center;}#sk-container-id-1 div.sk-container {/* jupyter's `normalize.less` sets `[hidden] { display: none; }` but bootstrap.min.css set `[hidden] { display: none !important; }` so we also need the `!important` here to be able to override the default hidden behavior on the sphinx rendered scikit-learn.org. See: https://github.com/scikit-learn/scikit-learn/issues/21755 */display: inline-block !important;position: relative;}#sk-container-id-1 div.sk-text-repr-fallback {display: none;}</style><div id=\"sk-container-id-1\" class=\"sk-top-container\"><div class=\"sk-text-repr-fallback\"><pre>LogisticRegression()</pre><b>In a Jupyter environment, please rerun this cell to show the HTML representation or trust the notebook. <br />On GitHub, the HTML representation is unable to render, please try loading this page with nbviewer.org.</b></div><div class=\"sk-container\" hidden><div class=\"sk-item\"><div class=\"sk-estimator sk-toggleable\"><input class=\"sk-toggleable__control sk-hidden--visually\" id=\"sk-estimator-id-1\" type=\"checkbox\" checked><label for=\"sk-estimator-id-1\" class=\"sk-toggleable__label sk-toggleable__label-arrow\">LogisticRegression</label><div class=\"sk-toggleable__content\"><pre>LogisticRegression()</pre></div></div></div></div></div>"
            ]
          },
          "metadata": {},
          "execution_count": 44
        }
      ]
    },
    {
      "cell_type": "code",
      "source": [
        "model.coef_"
      ],
      "metadata": {
        "colab": {
          "base_uri": "https://localhost:8080/"
        },
        "id": "SljbuE_z3xYd",
        "outputId": "c1df067b-e445-4f4b-d8f0-c6233c45c174"
      },
      "execution_count": 45,
      "outputs": [
        {
          "output_type": "execute_result",
          "data": {
            "text/plain": [
              "array([[-7.26288827e-02,  2.64848384e-01, -1.06769544e-05,\n",
              "        -2.26804107e-02,  2.44029728e-03]])"
            ]
          },
          "metadata": {},
          "execution_count": 45
        }
      ]
    },
    {
      "cell_type": "code",
      "source": [
        "pred = model.predict(X_test)"
      ],
      "metadata": {
        "id": "ThWpjJkk32UZ"
      },
      "execution_count": 53,
      "outputs": []
    },
    {
      "cell_type": "code",
      "source": [
        "y_test"
      ],
      "metadata": {
        "colab": {
          "base_uri": "https://localhost:8080/"
        },
        "id": "8TR2efM04E8q",
        "outputId": "169baf23-253d-4cf6-bb9c-dfbbd13c62d9"
      },
      "execution_count": 48,
      "outputs": [
        {
          "output_type": "execute_result",
          "data": {
            "text/plain": [
              "249    1\n",
              "353    0\n",
              "537    0\n",
              "424    1\n",
              "564    1\n",
              "      ..\n",
              "193    1\n",
              "838    1\n",
              "974    1\n",
              "203    0\n",
              "425    1\n",
              "Name: Clicked on Ad, Length: 300, dtype: int64"
            ]
          },
          "metadata": {},
          "execution_count": 48
        }
      ]
    },
    {
      "cell_type": "markdown",
      "source": [
        "#_06. Evaluation "
      ],
      "metadata": {
        "id": "je2Z88i795Cn"
      }
    },
    {
      "cell_type": "code",
      "source": [
        "from sklearn.metrics import accuracy_score, confusion_matrix"
      ],
      "metadata": {
        "id": "Qgpy7bWx4gTX"
      },
      "execution_count": 51,
      "outputs": []
    },
    {
      "cell_type": "code",
      "source": [
        "accuracy_score(y_test, pred)"
      ],
      "metadata": {
        "colab": {
          "base_uri": "https://localhost:8080/"
        },
        "id": "KtaxQ3Eq4roP",
        "outputId": "6650abb3-754c-4b0a-a8c1-b4d5cc8a8fa8"
      },
      "execution_count": 54,
      "outputs": [
        {
          "output_type": "execute_result",
          "data": {
            "text/plain": [
              "0.8966666666666666"
            ]
          },
          "metadata": {},
          "execution_count": 54
        }
      ]
    },
    {
      "cell_type": "code",
      "source": [
        "confusion_matrix(y_test, pred)"
      ],
      "metadata": {
        "colab": {
          "base_uri": "https://localhost:8080/"
        },
        "id": "lr9pU5o85Bpu",
        "outputId": "89060b35-3d10-4018-911f-c00ee576e70b"
      },
      "execution_count": 55,
      "outputs": [
        {
          "output_type": "execute_result",
          "data": {
            "text/plain": [
              "array([[137,   8],\n",
              "       [ 23, 132]])"
            ]
          },
          "metadata": {},
          "execution_count": 55
        }
      ]
    },
    {
      "cell_type": "markdown",
      "source": [
        "![image.png](data:image/png;base64,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)"
      ],
      "metadata": {
        "id": "JjEVhZbf5Ywn"
      }
    },
    {
      "cell_type": "code",
      "source": [],
      "metadata": {
        "id": "q8mcqTZB97gc"
      },
      "execution_count": 7,
      "outputs": []
    },
    {
      "cell_type": "code",
      "source": [],
      "metadata": {
        "id": "1BEaGu_297mS"
      },
      "execution_count": 7,
      "outputs": []
    }
  ]
}