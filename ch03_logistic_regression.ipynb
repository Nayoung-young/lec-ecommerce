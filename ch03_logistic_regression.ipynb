{
  "nbformat": 4,
  "nbformat_minor": 0,
  "metadata": {
    "colab": {
      "provenance": [],
      "authorship_tag": "ABX9TyOi6XEsTBPIrva3w5Hgdfkm",
      "include_colab_link": true
    },
    "kernelspec": {
      "name": "python3",
      "display_name": "Python 3"
    },
    "language_info": {
      "name": "python"
    }
  },
  "cells": [
    {
      "cell_type": "markdown",
      "metadata": {
        "id": "view-in-github",
        "colab_type": "text"
      },
      "source": [
        "<a href=\"https://colab.research.google.com/github/Nayoung-young/lec-ecommerce-clone/blob/main/ch03_logistic_regression.ipynb\" target=\"_parent\"><img src=\"https://colab.research.google.com/assets/colab-badge.svg\" alt=\"Open In Colab\"/></a>"
      ]
    },
    {
      "cell_type": "markdown",
      "source": [
        "#_01. 분석 목적 "
      ],
      "metadata": {
        "id": "O0X5Sn5k9YOc"
      }
    },
    {
      "cell_type": "markdown",
      "source": [
        "- logsitic regression: 이진분류를 예측 \n",
        "- y : 광고 클릭 여부, x : 고객에 대한 정보 "
      ],
      "metadata": {
        "id": "X5FQ32OJ9a92"
      }
    },
    {
      "cell_type": "markdown",
      "source": [
        "#_02. 모듈, 데이터 로딩 및 데이터 확인 "
      ],
      "metadata": {
        "id": "Dv3Ha_lI9nk6"
      }
    },
    {
      "cell_type": "code",
      "execution_count": null,
      "metadata": {
        "id": "0xKh47L19UxT"
      },
      "outputs": [],
      "source": [
        "import numpy as np \n",
        "import pandas as pd \n",
        "import matplotlib.pyplot as plt \n",
        "import seaborn as sns"
      ]
    },
    {
      "cell_type": "code",
      "source": [
        "data = pd.read_csv('ecommerce.csv')"
      ],
      "metadata": {
        "id": "9jyKKUOc-I5O"
      },
      "execution_count": null,
      "outputs": []
    },
    {
      "cell_type": "code",
      "source": [
        "data.head(10)"
      ],
      "metadata": {
        "id": "G7IWldmu-abC"
      },
      "execution_count": null,
      "outputs": []
    },
    {
      "cell_type": "markdown",
      "source": [
        "#_03. 결측치 확인 및 처리 "
      ],
      "metadata": {
        "id": "XQ7tHIIq9rrO"
      }
    },
    {
      "cell_type": "code",
      "source": [],
      "metadata": {
        "id": "5jS81ncm9uPB"
      },
      "execution_count": null,
      "outputs": []
    },
    {
      "cell_type": "code",
      "source": [],
      "metadata": {
        "id": "oKY0FEK29uV5"
      },
      "execution_count": null,
      "outputs": []
    },
    {
      "cell_type": "markdown",
      "source": [
        "#_04. Train, Test set 나누기 "
      ],
      "metadata": {
        "id": "jqt5aWsY9ue9"
      }
    },
    {
      "cell_type": "code",
      "source": [],
      "metadata": {
        "id": "k4dyAWAi9yO0"
      },
      "execution_count": null,
      "outputs": []
    },
    {
      "cell_type": "code",
      "source": [],
      "metadata": {
        "id": "gqz6Y71e9yV0"
      },
      "execution_count": null,
      "outputs": []
    },
    {
      "cell_type": "markdown",
      "source": [
        "#_05. Logistic Regression Modeling "
      ],
      "metadata": {
        "id": "Jovgg_bz9xjW"
      }
    },
    {
      "cell_type": "code",
      "source": [],
      "metadata": {
        "id": "7sEkOOq-93js"
      },
      "execution_count": null,
      "outputs": []
    },
    {
      "cell_type": "code",
      "source": [],
      "metadata": {
        "id": "22A8IXao93rY"
      },
      "execution_count": null,
      "outputs": []
    },
    {
      "cell_type": "markdown",
      "source": [
        "#_06. Evaluation "
      ],
      "metadata": {
        "id": "je2Z88i795Cn"
      }
    },
    {
      "cell_type": "code",
      "source": [],
      "metadata": {
        "id": "q8mcqTZB97gc"
      },
      "execution_count": null,
      "outputs": []
    },
    {
      "cell_type": "code",
      "source": [],
      "metadata": {
        "id": "1BEaGu_297mS"
      },
      "execution_count": null,
      "outputs": []
    }
  ]
}